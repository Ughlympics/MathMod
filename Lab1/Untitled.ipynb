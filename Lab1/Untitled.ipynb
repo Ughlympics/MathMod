{
 "cells": [
  {
   "cell_type": "code",
   "execution_count": 3,
   "id": "ab92b4a6-b184-4119-a4f4-30781002614c",
   "metadata": {},
   "outputs": [
    {
     "name": "stdout",
     "output_type": "stream",
     "text": [
      "Отримання значень одного забрудника (рм2.5) від інших (no2_ug, so2_ug, co_mg, no2_ppb, so2_ppb, co_ppm)\n",
      "MSE:  0.30540073595770695\n",
      "R2:  0.9972465015511942\n",
      "Залежність забрудника від часу дня (pm2.5)\n",
      "MSE time:  110.65675049354344\n",
      "R2 time:  0.0023167760929900805\n"
     ]
    }
   ],
   "source": [
    "import numpy as np\n",
    "import pandas as pd\n",
    "from sklearn.model_selection import train_test_split\n",
    "from sklearn.linear_model import LinearRegression\n",
    "from sklearn.metrics import mean_squared_error, r2_score\n",
    "\n",
    "data = pd.read_csv(\"../MM/saveecobot_22643.csv\")\n",
    "#print(data.columns)\n",
    "data_wide = data.pivot_table(index=\"logged_at\", columns=\"phenomenon\", values=\"value\").reset_index()\n",
    "\n",
    "data_wide[\"logged_at\"]=pd.to_datetime(data_wide[\"logged_at\"])\n",
    "data_wide[\"hour\"]=data_wide[\"logged_at\"].dt.hour\n",
    "\n",
    "#print(data_wide.head(10))\n",
    "\n",
    "data_clean = data_wide.dropna()\n",
    "\n",
    "print(\"Отримання значень одного забрудника (рм2.5) від інших (no2_ug, so2_ug, co_mg, no2_ppb, so2_ppb, co_ppm)\")\n",
    "\n",
    "X = data_clean[[\"pm1\", \"pm10\"]]\n",
    "Y = data_clean[\"pm25\"]\n",
    "\n",
    "X_train, X_test, Y_train, Y_test = train_test_split(X, Y, test_size=0.2, random_state=21)\n",
    "\n",
    "model = LinearRegression()\n",
    "model.fit(X_train, Y_train)\n",
    "\n",
    "Y_pred = model.predict(X_test)\n",
    "\n",
    "mse = mean_squared_error(Y_test, Y_pred)\n",
    "r2 = r2_score(Y_test, Y_pred)\n",
    "\n",
    "\n",
    "\n",
    "print(\"MSE: \", mse)\n",
    "print(\"R2: \", r2)\n",
    "\n",
    "print(\"Залежність забрудника від часу дня (pm2.5)\")\n",
    "\n",
    "X_time = data_clean[[\"hour\"]]\n",
    "Y_time = data_clean[\"pm25\"]\n",
    "\n",
    "#print(X_time)\n",
    "\n",
    "X_time_train, X_time_test, Y_time_train, Y_time_test = train_test_split(X_time, Y_time, test_size=0.2, random_state=21)\n",
    "\n",
    "model_time = LinearRegression()\n",
    "model_time.fit(X_time_train, Y_time_train)\n",
    "\n",
    "Y_time_pred = model_time.predict((X_time_test))\n",
    "\n",
    "mse_time = mean_squared_error(Y_time_test, Y_time_pred)\n",
    "r2_time = r2_score(Y_time_test, Y_time_pred)\n",
    "\n",
    "print(\"MSE time: \", mse_time)\n",
    "print(\"R2 time: \", r2_time)"
   ]
  },
  {
   "cell_type": "code",
   "execution_count": null,
   "id": "116538cb-6983-46de-a90d-e0cf801c0268",
   "metadata": {},
   "outputs": [],
   "source": []
  }
 ],
 "metadata": {
  "kernelspec": {
   "display_name": "Python 3 (ipykernel)",
   "language": "python",
   "name": "python3"
  },
  "language_info": {
   "codemirror_mode": {
    "name": "ipython",
    "version": 3
   },
   "file_extension": ".py",
   "mimetype": "text/x-python",
   "name": "python",
   "nbconvert_exporter": "python",
   "pygments_lexer": "ipython3",
   "version": "3.13.0"
  }
 },
 "nbformat": 4,
 "nbformat_minor": 5
}
