{
 "cells": [
  {
   "cell_type": "code",
   "execution_count": 8,
   "id": "8d18e141-c653-4db8-94de-c40916e35e09",
   "metadata": {},
   "outputs": [
    {
     "data": {
      "image/png": "[encoded data removed]",
      "text/plain": [
       "<Figure size 640x480 with 1 Axes>"
      ]
     },
     "metadata": {},
     "output_type": "display_data"
    },
    {
     "name": "stdout",
     "output_type": "stream",
     "text": [
      "Площа, що підрахована власноруч:  8\n",
      "Площа за допомогою метода Монте-Карло:  6.9996672\n",
      "Аболютна похибка 1.0003327999999998\n",
      "Відносна похибка 12.504159999999997 %\n"
     ]
    }
   ],
   "source": [
    "import random\n",
    "import matplotlib.pyplot as plt\n",
    "\n",
    "\n",
    "plt.figure()\n",
    "\n",
    "plt.fill([0, 1, 1, 0], [2, 2, 3, 3], color=\"gray\", alpha=0.5)\n",
    "\n",
    "plt.fill([1, 3, 3, 1], [0, 0, 3, 3], color=\"gray\", alpha=0.5)\n",
    "\n",
    "plt.fill([3, 4, 4, 3], [0, 0, 1, 1], color=\"gray\", alpha=0.5)\n",
    "plt.xlim(0, 4)\n",
    "plt.ylim(0, 4)\n",
    "plt.gca().set_aspect('equal', adjustable='box')\n",
    "\n",
    "plt.show()\n",
    "\n",
    "def check(x, y):\n",
    "    if (0 <= x <= 4 and 2 <= y <= 3):  \n",
    "        return True\n",
    "    elif (0 <= x <= 1 and 0 <= y <= 2):  \n",
    "        return True\n",
    "    elif (3 <= x <= 4 and 0 <= y <= 1): \n",
    "        return True\n",
    "    else:\n",
    "        return False\n",
    "\n",
    "plosha = 3*4\n",
    "\n",
    "def monteKarlo(n , p):\n",
    "    count = 0\n",
    "    for _ in range(n):\n",
    "        x = random.uniform(0,4)\n",
    "        y = random.uniform(0,3)\n",
    "        if check(x,y):\n",
    "            count += 1\n",
    "    s = (count*p)/n\n",
    "    return s\n",
    "\n",
    "real_area = 12-2-2\n",
    "monte_area = monteKarlo(10000000, plosha)\n",
    "\n",
    "print(\"Площа, що підрахована власноруч: \", real_area)\n",
    "print(\"Площа за допомогою метода Монте-Карло: \", monte_area)\n",
    "print(\"Аболютна похибка\", abs(monte_area-real_area))\n",
    "print(\"Відносна похибка\", (abs((monte_area-real_area)/real_area))*100, \"%\")"
   ]
  },
  {
   "cell_type": "code",
   "execution_count": null,
   "id": "7c421a7d-1228-4c80-8dfd-cc2b94ddf44f",
   "metadata": {},
   "outputs": [],
   "source": []
  }
 ],
 "metadata": {
  "kernelspec": {
   "display_name": "Python 3 (ipykernel)",
   "language": "python",
   "name": "python3"
  },
  "language_info": {
   "codemirror_mode": {
    "name": "ipython",
    "version": 3
   },
   "file_extension": ".py",
   "mimetype": "text/x-python",
   "name": "python",
   "nbconvert_exporter": "python",
   "pygments_lexer": "ipython3",
   "version": "3.13.0"
  }
 },
 "nbformat": 4,
 "nbformat_minor": 5
}
