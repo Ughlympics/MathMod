{
 "cells": [
  {
   "cell_type": "code",
   "execution_count": 13,
   "id": "3b811b58-230b-4da7-bb04-97f7b5946bb9",
   "metadata": {},
   "outputs": [
    {
     "name": "stdout",
     "output_type": "stream",
     "text": [
      "Оптимальне значення функції: 39.0\n",
      "Оптимальне значення змінних: [0. 4. 0. 1. 0. 0.]\n"
     ]
    }
   ],
   "source": [
    "from scipy.optimize import linprog\n",
    "\n",
    "target = [0, 8, 0, 7, 0, 1] \n",
    "coefs_1 = [[1, -2, 0, -3, 0, -2],\n",
    "          [0, 4, 1, -4, 0, -3],  \n",
    "          [0, 5, 0, 5, 1, 1]]\n",
    "\n",
    "coefs_2 = [12, 12, 25] \n",
    "\n",
    "bounds = [(0, None) for _ in range(6)]\n",
    "\n",
    "res = linprog(c=[-t for t in target], A_ub=coefs_1, b_ub=coefs_2, bounds=bounds, method='highs', options={\"disp\": True})\n",
    "if res.success:\n",
    "    print(\"Оптимальне значення функції:\", -res.fun)  \n",
    "    print(\"Оптимальне значення змінних:\", res.x)\n",
    "else:\n",
    "    print(\"Оптимизація не відбулась:\", res.message)"
   ]
  },
  {
   "cell_type": "code",
   "execution_count": null,
   "id": "26824d3c-8027-402d-88e4-b6d2ff08d035",
   "metadata": {},
   "outputs": [],
   "source": []
  }
 ],
 "metadata": {
  "kernelspec": {
   "display_name": "Python 3 (ipykernel)",
   "language": "python",
   "name": "python3"
  },
  "language_info": {
   "codemirror_mode": {
    "name": "ipython",
    "version": 3
   },
   "file_extension": ".py",
   "mimetype": "text/x-python",
   "name": "python",
   "nbconvert_exporter": "python",
   "pygments_lexer": "ipython3",
   "version": "3.13.0"
  }
 },
 "nbformat": 4,
 "nbformat_minor": 5
}
